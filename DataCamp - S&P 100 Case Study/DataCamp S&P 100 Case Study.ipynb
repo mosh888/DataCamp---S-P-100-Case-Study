{
 "cells": [
  {
   "cell_type": "markdown",
   "metadata": {},
   "source": [
    "DataCamp - Introduction to Python for Finance - S&P 100 Case Study"
   ]
  },
  {
   "cell_type": "markdown",
   "metadata": {},
   "source": [
    "Import Libraries"
   ]
  },
  {
   "cell_type": "code",
   "execution_count": 1,
   "metadata": {},
   "outputs": [],
   "source": [
    "import pandas as pd\n",
    "import numpy as np\n",
    "import matplotlib.pyplot as plt"
   ]
  },
  {
   "cell_type": "markdown",
   "metadata": {},
   "source": [
    "Read S&P 100 File"
   ]
  },
  {
   "cell_type": "code",
   "execution_count": 2,
   "metadata": {},
   "outputs": [
    {
     "data": {
      "text/html": [
       "<div>\n",
       "<style scoped>\n",
       "    .dataframe tbody tr th:only-of-type {\n",
       "        vertical-align: middle;\n",
       "    }\n",
       "\n",
       "    .dataframe tbody tr th {\n",
       "        vertical-align: top;\n",
       "    }\n",
       "\n",
       "    .dataframe thead th {\n",
       "        text-align: right;\n",
       "    }\n",
       "</style>\n",
       "<table border=\"1\" class=\"dataframe\">\n",
       "  <thead>\n",
       "    <tr style=\"text-align: right;\">\n",
       "      <th></th>\n",
       "      <th>Name</th>\n",
       "      <th>Sector</th>\n",
       "      <th>Price</th>\n",
       "      <th>EPS</th>\n",
       "    </tr>\n",
       "  </thead>\n",
       "  <tbody>\n",
       "    <tr>\n",
       "      <th>0</th>\n",
       "      <td>Apple Inc</td>\n",
       "      <td>Information Technology</td>\n",
       "      <td>170.12</td>\n",
       "      <td>9.20</td>\n",
       "    </tr>\n",
       "    <tr>\n",
       "      <th>1</th>\n",
       "      <td>Abbvie Inc</td>\n",
       "      <td>Health Care</td>\n",
       "      <td>93.29</td>\n",
       "      <td>5.31</td>\n",
       "    </tr>\n",
       "    <tr>\n",
       "      <th>2</th>\n",
       "      <td>Abbott Laboratories</td>\n",
       "      <td>Health Care</td>\n",
       "      <td>55.28</td>\n",
       "      <td>2.41</td>\n",
       "    </tr>\n",
       "    <tr>\n",
       "      <th>3</th>\n",
       "      <td>Accenture Plc</td>\n",
       "      <td>Information Technology</td>\n",
       "      <td>145.30</td>\n",
       "      <td>5.91</td>\n",
       "    </tr>\n",
       "    <tr>\n",
       "      <th>4</th>\n",
       "      <td>Allergan Plc</td>\n",
       "      <td>Health Care</td>\n",
       "      <td>171.81</td>\n",
       "      <td>15.42</td>\n",
       "    </tr>\n",
       "  </tbody>\n",
       "</table>\n",
       "</div>"
      ],
      "text/plain": [
       "                  Name                  Sector   Price    EPS\n",
       "0            Apple Inc  Information Technology  170.12   9.20\n",
       "1           Abbvie Inc             Health Care   93.29   5.31\n",
       "2  Abbott Laboratories             Health Care   55.28   2.41\n",
       "3        Accenture Plc  Information Technology  145.30   5.91\n",
       "4         Allergan Plc             Health Care  171.81  15.42"
      ]
     },
     "execution_count": 2,
     "metadata": {},
     "output_type": "execute_result"
    }
   ],
   "source": [
    "df = pd.read_csv('S&P 100 data.csv')\n",
    "df.head()"
   ]
  },
  {
   "cell_type": "markdown",
   "metadata": {},
   "source": [
    "Print the first four items in names"
   ]
  },
  {
   "cell_type": "code",
   "execution_count": 3,
   "metadata": {},
   "outputs": [
    {
     "name": "stdout",
     "output_type": "stream",
     "text": [
      "0              Apple Inc\n",
      "1             Abbvie Inc\n",
      "2    Abbott Laboratories\n",
      "3          Accenture Plc\n",
      "Name: Name, dtype: object\n"
     ]
    }
   ],
   "source": [
    "print(df['Name'][:4])"
   ]
  },
  {
   "cell_type": "markdown",
   "metadata": {},
   "source": [
    "Print the name, price, earning, and sector associated with the last company in the lists"
   ]
  },
  {
   "cell_type": "code",
   "execution_count": 4,
   "metadata": {},
   "outputs": [
    {
     "name": "stdout",
     "output_type": "stream",
     "text": [
      "101    Exxon Mobil Corp\n",
      "Name: Name, dtype: object\n",
      "101    80.31\n",
      "Name: Price, dtype: float64\n",
      "101    3.56\n",
      "Name: EPS, dtype: float64\n",
      "101    Energy\n",
      "Name: Sector, dtype: object\n"
     ]
    }
   ],
   "source": [
    "print(df['Name'][-1:])\n",
    "print(df['Price'][-1:])\n",
    "print(df['EPS'][-1:])\n",
    "print(df['Sector'][-1:])"
   ]
  },
  {
   "cell_type": "markdown",
   "metadata": {},
   "source": [
    "Convert the prices and earnings lists to arrays, prices_array and earnings_array, respectively"
   ]
  },
  {
   "cell_type": "code",
   "execution_count": 5,
   "metadata": {},
   "outputs": [],
   "source": [
    "prices_array = np.array(df['Price'])\n",
    "earnings_array = np.array(df['EPS'])"
   ]
  },
  {
   "cell_type": "markdown",
   "metadata": {},
   "source": [
    "Calculate the price to earnings ratio as pe"
   ]
  },
  {
   "cell_type": "code",
   "execution_count": 6,
   "metadata": {},
   "outputs": [
    {
     "name": "stdout",
     "output_type": "stream",
     "text": [
      "[  18.49130435   17.56873823   22.93775934   24.58544839   11.14202335\n",
      "   23.70517928   14.8011782    13.42845787  285.99492386   17.99233716\n",
      "   27.18358974   15.25714286   14.44742937   15.19596542   21.99767981\n",
      "   20.43243243   28.81875994   13.8477842    24.75135135   16.075\n",
      "  215.0310559    25.14285714   17.88613861   11.64379947 2494.5\n",
      "   29.41924399   16.76497696   12.29071804   32.16806723   24.02313625\n",
      "   18.07368421   19.91235955   19.43169399   23.31007752   16.66129032\n",
      "    7.20833333   34.51637765   18.2829555    15.84375      16.21875\n",
      "   19.73187686   14.44354839    7.47703549    7.22778675   34.09708738\n",
      "   34.6196853    12.3984375    56.94520548   24.44396552   21.30071942\n",
      "   11.08345534   14.11320755   19.40336134   14.20461095   22.63764045\n",
      "   26.21538462   24.12698413   20.28606357   24.60141509   18.76267281\n",
      "   34.78654292   26.0953125    20.72682927   16.95522388    9.97115385\n",
      "   25.97653631   21.04746835   21.37251356   13.81491003   13.5900277\n",
      "   24.40532544   23.34332834   25.30212766   19.20392157  194.77142857\n",
      "   23.66997985   22.55859375   14.152        22.19346734   23.01781737\n",
      "   54.67857143   17.67989418   24.36772487   27.45410628   47.69767442\n",
      "   18.58909091   26.32231405   11.80546075   11.71805274   14.62376238\n",
      "   24.28325123   21.84895833   20.4204947    18.92976589   15.39465875\n",
      "   17.68126888   31.68678161   12.22666667   13.7745098    13.04830918\n",
      "   22.03669725   22.55898876]\n"
     ]
    }
   ],
   "source": [
    "pe = prices_array / earnings_array\n",
    "print(pe)"
   ]
  },
  {
   "cell_type": "markdown",
   "metadata": {},
   "source": [
    "Create a boolean array to determine which elements in sectors are 'Information Technology'"
   ]
  },
  {
   "cell_type": "code",
   "execution_count": 7,
   "metadata": {},
   "outputs": [],
   "source": [
    "boolean_array_it = df['Sector'] == 'Information Technology'"
   ]
  },
  {
   "cell_type": "markdown",
   "metadata": {},
   "source": [
    "Use the boolean array to subset names and pe in the Information Technology sector."
   ]
  },
  {
   "cell_type": "code",
   "execution_count": 8,
   "metadata": {},
   "outputs": [
    {
     "name": "stdout",
     "output_type": "stream",
     "text": [
      "0                           Apple Inc\n",
      "3                       Accenture Plc\n",
      "26                  Cisco Systems Inc\n",
      "36                       Facebook Inc\n",
      "44                   Alphabet Class C\n",
      "45                   Alphabet Class A\n",
      "50    International Business Machines\n",
      "51                         Intel Corp\n",
      "60                     Mastercard Inc\n",
      "70                     Microsoft Corp\n",
      "73                        Oracle Corp\n",
      "80                    Paypal Holdings\n",
      "81                       Qualcomm Inc\n",
      "90                  Texas Instruments\n",
      "96                           Visa Inc\n",
      "Name: Name, dtype: object\n",
      "0      9.20\n",
      "3      5.91\n",
      "26     2.17\n",
      "36     5.19\n",
      "44    29.87\n",
      "45    29.87\n",
      "50    13.66\n",
      "51     3.18\n",
      "60     4.31\n",
      "70     3.38\n",
      "73     2.55\n",
      "80     1.40\n",
      "81     3.78\n",
      "90     4.06\n",
      "96     3.48\n",
      "Name: EPS, dtype: float64\n"
     ]
    }
   ],
   "source": [
    "it_names = df['Name'][boolean_array_it]\n",
    "it_pe = df['EPS'][boolean_array_it]\n",
    "\n",
    "print(it_names)\n",
    "print(it_pe)"
   ]
  },
  {
   "cell_type": "markdown",
   "metadata": {},
   "source": [
    "Create a boolean array to determine which elements in sectors are 'Consumer Staples'"
   ]
  },
  {
   "cell_type": "code",
   "execution_count": 9,
   "metadata": {},
   "outputs": [],
   "source": [
    "boolean_array_cs = df['Sector'] == 'Consumer Staples'"
   ]
  },
  {
   "cell_type": "markdown",
   "metadata": {},
   "source": [
    "Use the boolean array to subset names and pe in the Consumer Staples sector"
   ]
  },
  {
   "cell_type": "code",
   "execution_count": 10,
   "metadata": {},
   "outputs": [
    {
     "name": "stdout",
     "output_type": "stream",
     "text": [
      "21           Colgate-Palmolive Company\n",
      "25                    Costco Wholesale\n",
      "27                            CVS Corp\n",
      "54                      Kraft Heinz Co\n",
      "56                   Coca-Cola Company\n",
      "62                 Mondelez Intl Cmn A\n",
      "66                        Altria Group\n",
      "76                         Pepsico Inc\n",
      "78            Procter & Gamble Company\n",
      "79     Philip Morris International Inc\n",
      "98            Walgreens Boots Alliance\n",
      "100                    Wal-Mart Stores\n",
      "Name: Name, dtype: object\n",
      "21     2.87\n",
      "25     5.82\n",
      "27     5.71\n",
      "54     3.56\n",
      "56     1.89\n",
      "62     2.05\n",
      "66     3.16\n",
      "76     5.12\n",
      "78     3.98\n",
      "79     4.49\n",
      "98     5.10\n",
      "100    4.36\n",
      "Name: EPS, dtype: float64\n"
     ]
    }
   ],
   "source": [
    "cs_names = df['Name'][boolean_array_cs]\n",
    "cs_pe = df['EPS'][boolean_array_cs]\n",
    "\n",
    "print(cs_names)\n",
    "print(cs_pe)"
   ]
  },
  {
   "cell_type": "markdown",
   "metadata": {},
   "source": [
    "Calculate the mean and standard deviation of the P/E ratios (it_pe) for the Industrial Technology sector"
   ]
  },
  {
   "cell_type": "code",
   "execution_count": 11,
   "metadata": {},
   "outputs": [
    {
     "name": "stdout",
     "output_type": "stream",
     "text": [
      "8.134\n",
      "9.023195886159183\n"
     ]
    }
   ],
   "source": [
    "it_pe_mean = np.mean(it_pe)\n",
    "it_pe_std = np.std(it_pe)\n",
    "\n",
    "print(it_pe_mean)\n",
    "print(it_pe_std)"
   ]
  },
  {
   "cell_type": "markdown",
   "metadata": {},
   "source": [
    "Calculate the mean and standard deviation of the P/E ratios (cs_pe) for the Consumer Staples sector"
   ]
  },
  {
   "cell_type": "code",
   "execution_count": 12,
   "metadata": {},
   "outputs": [
    {
     "name": "stdout",
     "output_type": "stream",
     "text": [
      "4.009166666666666\n",
      "1.2747774860299694\n"
     ]
    }
   ],
   "source": [
    "cs_pe_mean = np.mean(cs_pe)\n",
    "cs_pe_std = np.std(cs_pe)\n",
    "\n",
    "print(cs_pe_mean)\n",
    "print(cs_pe_std)"
   ]
  },
  {
   "cell_type": "markdown",
   "metadata": {},
   "source": [
    "- Draw a scatter plot of it_pe ratios with red markers and 'IT' label <br>\n",
    "- On the same plot, add the cs_pe ratios with green markers and 'CS' label <br>\n",
    "- Add a legend to this plot <br>\n",
    "- Display the plot <br>"
   ]
  },
  {
   "cell_type": "code",
   "execution_count": 13,
   "metadata": {},
   "outputs": [
    {
     "data": {
      "image/png": "[encoded data removed]",
      "text/plain": [
       "<Figure size 640x480 with 1 Axes>"
      ]
     },
     "metadata": {},
     "output_type": "display_data"
    }
   ],
   "source": [
    "plt.scatter(it_names.index, it_pe, color = 'red', label = 'IT')\n",
    "plt.scatter(cs_names.index, cs_pe, color = 'green', label = 'CS')\n",
    "\n",
    "plt.legend()\n",
    "plt.show()"
   ]
  },
  {
   "cell_type": "markdown",
   "metadata": {},
   "source": [
    "- Plot a histogram of it_pe with 8 bins <br>\n",
    "- Add the x-label as 'P/E ratio' and y-label as 'Frequency' <br>\n",
    "- Display the plot <br>"
   ]
  },
  {
   "cell_type": "code",
   "execution_count": 14,
   "metadata": {},
   "outputs": [
    {
     "data": {
      "image/png": "[encoded data removed]",
      "text/plain": [
       "<Figure size 640x480 with 1 Axes>"
      ]
     },
     "metadata": {},
     "output_type": "display_data"
    }
   ],
   "source": [
    "plt.hist(it_pe, bins = 8)\n",
    "plt.xlabel('P/E Ratio')\n",
    "plt.ylabel('Frequency')\n",
    "plt.show()"
   ]
  },
  {
   "cell_type": "markdown",
   "metadata": {},
   "source": [
    "- Identify the P/E ratio greater than 20 and assign it to outlier_price <br>\n",
    "- Identify the company with P/E ratio greater than 20 and assign it to outlier_name <br>"
   ]
  },
  {
   "cell_type": "code",
   "execution_count": 15,
   "metadata": {},
   "outputs": [
    {
     "name": "stdout",
     "output_type": "stream",
     "text": [
      "Alphabet Class C has the highest P/E ratio in the IT Sector\n"
     ]
    }
   ],
   "source": [
    "outlier_price = it_pe[it_pe > 20]\n",
    "outlier_name = it_names[it_pe > 20]\n",
    "\n",
    "print(f\"{outlier_name.iloc[0]} has the highest P/E ratio in the IT Sector\")"
   ]
  }
 ],
 "metadata": {
  "kernelspec": {
   "display_name": "base",
   "language": "python",
   "name": "python3"
  },
  "language_info": {
   "codemirror_mode": {
    "name": "ipython",
    "version": 3
   },
   "file_extension": ".py",
   "mimetype": "text/x-python",
   "name": "python",
   "nbconvert_exporter": "python",
   "pygments_lexer": "ipython3",
   "version": "3.11.7"
  }
 },
 "nbformat": 4,
 "nbformat_minor": 2
}
